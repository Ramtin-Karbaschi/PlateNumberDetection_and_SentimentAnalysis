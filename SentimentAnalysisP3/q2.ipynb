{
 "cells": [
  {
   "cell_type": "code",
   "execution_count": 2,
   "metadata": {},
   "outputs": [],
   "source": [
    "import pandas as pd\n",
    "import re\n",
    "import torch\n",
    "from transformers import BertTokenizer, BertForSequenceClassification, Trainer, TrainingArguments\n",
    "from datasets import Dataset\n",
    "from sklearn.model_selection import train_test_split\n",
    "from sklearn.metrics import f1_score\n",
    "\n"
   ]
  },
  {
   "cell_type": "code",
   "execution_count": 3,
   "metadata": {},
   "outputs": [
    {
     "name": "stderr",
     "output_type": "stream",
     "text": [
      "/var/folders/1c/l625xlq90kb0y2216g7h8d000000gn/T/ipykernel_62009/26278635.py:1: DtypeWarning: Columns (1) have mixed types. Specify dtype option on import or set low_memory=False.\n",
      "  df = pd.read_csv('train_data.csv')\n"
     ]
    }
   ],
   "source": [
    "df = pd.read_csv('train_data.csv')\n",
    "df = df.dropna(subset=['reviewText', 'overall'])\n",
    "df['overall'] = df['overall'].astype(int)"
   ]
  },
  {
   "cell_type": "code",
   "execution_count": 4,
   "metadata": {},
   "outputs": [
    {
     "data": {
      "text/html": [
       "<div>\n",
       "<style scoped>\n",
       "    .dataframe tbody tr th:only-of-type {\n",
       "        vertical-align: middle;\n",
       "    }\n",
       "\n",
       "    .dataframe tbody tr th {\n",
       "        vertical-align: top;\n",
       "    }\n",
       "\n",
       "    .dataframe thead th {\n",
       "        text-align: right;\n",
       "    }\n",
       "</style>\n",
       "<table border=\"1\" class=\"dataframe\">\n",
       "  <thead>\n",
       "    <tr style=\"text-align: right;\">\n",
       "      <th></th>\n",
       "      <th>overall</th>\n",
       "      <th>vote</th>\n",
       "      <th>verified</th>\n",
       "      <th>reviewTime</th>\n",
       "      <th>reviewerID</th>\n",
       "      <th>asin</th>\n",
       "      <th>style</th>\n",
       "      <th>reviewerName</th>\n",
       "      <th>reviewText</th>\n",
       "      <th>summary</th>\n",
       "      <th>unixReviewTime</th>\n",
       "    </tr>\n",
       "  </thead>\n",
       "  <tbody>\n",
       "    <tr>\n",
       "      <th>0</th>\n",
       "      <td>2</td>\n",
       "      <td>NaN</td>\n",
       "      <td>False</td>\n",
       "      <td>2016-11-11</td>\n",
       "      <td>A2OSUEZJIN7BI</td>\n",
       "      <td>0511189877</td>\n",
       "      <td>NaN</td>\n",
       "      <td>Chris</td>\n",
       "      <td>I have an older URC-WR7 remote and thought thi...</td>\n",
       "      <td>Cannot Learn</td>\n",
       "      <td>1478822400</td>\n",
       "    </tr>\n",
       "    <tr>\n",
       "      <th>1</th>\n",
       "      <td>5</td>\n",
       "      <td>NaN</td>\n",
       "      <td>True</td>\n",
       "      <td>2016-06-06</td>\n",
       "      <td>A2NETQRG6JHIG7</td>\n",
       "      <td>0511189877</td>\n",
       "      <td>NaN</td>\n",
       "      <td>Qrysta White</td>\n",
       "      <td>First time I've EVER had a remote that needed ...</td>\n",
       "      <td>zero programming needed!  Miracle!?</td>\n",
       "      <td>1465171200</td>\n",
       "    </tr>\n",
       "    <tr>\n",
       "      <th>2</th>\n",
       "      <td>4</td>\n",
       "      <td>NaN</td>\n",
       "      <td>True</td>\n",
       "      <td>2016-03-10</td>\n",
       "      <td>A12JHGROAX49G7</td>\n",
       "      <td>0511189877</td>\n",
       "      <td>NaN</td>\n",
       "      <td>Linwood</td>\n",
       "      <td>Got them and only 2 of them worked. company ca...</td>\n",
       "      <td>Works Good and programs easy.</td>\n",
       "      <td>1457568000</td>\n",
       "    </tr>\n",
       "    <tr>\n",
       "      <th>3</th>\n",
       "      <td>5</td>\n",
       "      <td>NaN</td>\n",
       "      <td>True</td>\n",
       "      <td>2016-01-14</td>\n",
       "      <td>A1KV65E2TMMG6F</td>\n",
       "      <td>0511189877</td>\n",
       "      <td>NaN</td>\n",
       "      <td>Dane Williams</td>\n",
       "      <td>I got tired of the remote being on the wrong s...</td>\n",
       "      <td>Same as TWC remote</td>\n",
       "      <td>1452729600</td>\n",
       "    </tr>\n",
       "    <tr>\n",
       "      <th>4</th>\n",
       "      <td>5</td>\n",
       "      <td>NaN</td>\n",
       "      <td>True</td>\n",
       "      <td>2016-10-20</td>\n",
       "      <td>A280POPEWI0NSA</td>\n",
       "      <td>0594459451</td>\n",
       "      <td>NaN</td>\n",
       "      <td>Kristina H.</td>\n",
       "      <td>After purchasing cheap cords from another webs...</td>\n",
       "      <td>Good Quality Cord</td>\n",
       "      <td>1476921600</td>\n",
       "    </tr>\n",
       "    <tr>\n",
       "      <th>...</th>\n",
       "      <td>...</td>\n",
       "      <td>...</td>\n",
       "      <td>...</td>\n",
       "      <td>...</td>\n",
       "      <td>...</td>\n",
       "      <td>...</td>\n",
       "      <td>...</td>\n",
       "      <td>...</td>\n",
       "      <td>...</td>\n",
       "      <td>...</td>\n",
       "      <td>...</td>\n",
       "    </tr>\n",
       "    <tr>\n",
       "      <th>838939</th>\n",
       "      <td>5</td>\n",
       "      <td>NaN</td>\n",
       "      <td>True</td>\n",
       "      <td>2017-07-25</td>\n",
       "      <td>A1OOVLE2KZ6KGA</td>\n",
       "      <td>B01HJCN1EI</td>\n",
       "      <td>NaN</td>\n",
       "      <td>Puddzee</td>\n",
       "      <td>These are my favorite charging cords for a few...</td>\n",
       "      <td>Worth the price.</td>\n",
       "      <td>1500940800</td>\n",
       "    </tr>\n",
       "    <tr>\n",
       "      <th>838940</th>\n",
       "      <td>1</td>\n",
       "      <td>NaN</td>\n",
       "      <td>True</td>\n",
       "      <td>2017-04-04</td>\n",
       "      <td>A77K1B31UAQ29</td>\n",
       "      <td>B01HJCN1EI</td>\n",
       "      <td>NaN</td>\n",
       "      <td>addictedtoreading</td>\n",
       "      <td>Update....after 2 months of gentle use, cable ...</td>\n",
       "      <td>UPDATE...BREAKS AND SLOW CHARGING</td>\n",
       "      <td>1491264000</td>\n",
       "    </tr>\n",
       "    <tr>\n",
       "      <th>838941</th>\n",
       "      <td>3</td>\n",
       "      <td>NaN</td>\n",
       "      <td>True</td>\n",
       "      <td>2017-07-08</td>\n",
       "      <td>A2SVXUVUAWUDK2</td>\n",
       "      <td>B01HJH42KU</td>\n",
       "      <td>NaN</td>\n",
       "      <td>Andrew</td>\n",
       "      <td>These are okay. The connection becomes very if...</td>\n",
       "      <td>Hope this makes sense. You'd understand if you...</td>\n",
       "      <td>1499472000</td>\n",
       "    </tr>\n",
       "    <tr>\n",
       "      <th>838942</th>\n",
       "      <td>5</td>\n",
       "      <td>2.0</td>\n",
       "      <td>True</td>\n",
       "      <td>2016-12-01</td>\n",
       "      <td>A2HUZO7MQAY5I2</td>\n",
       "      <td>B01HJH40WU</td>\n",
       "      <td>NaN</td>\n",
       "      <td>michael clontz</td>\n",
       "      <td>Ok here is an odd thing that happened to me, I...</td>\n",
       "      <td>Not the correct product as linked in the sale.</td>\n",
       "      <td>1480550400</td>\n",
       "    </tr>\n",
       "    <tr>\n",
       "      <th>838943</th>\n",
       "      <td>5</td>\n",
       "      <td>NaN</td>\n",
       "      <td>True</td>\n",
       "      <td>2017-03-31</td>\n",
       "      <td>A1FGCIRPRNZWD5</td>\n",
       "      <td>B01HJF704M</td>\n",
       "      <td>NaN</td>\n",
       "      <td>Brando</td>\n",
       "      <td>I have it plugged into a usb extension on my g...</td>\n",
       "      <td>Works well enough..</td>\n",
       "      <td>1490918400</td>\n",
       "    </tr>\n",
       "  </tbody>\n",
       "</table>\n",
       "<p>838944 rows × 11 columns</p>\n",
       "</div>"
      ],
      "text/plain": [
       "        overall vote  verified  reviewTime      reviewerID        asin style  \\\n",
       "0             2  NaN     False  2016-11-11   A2OSUEZJIN7BI  0511189877   NaN   \n",
       "1             5  NaN      True  2016-06-06  A2NETQRG6JHIG7  0511189877   NaN   \n",
       "2             4  NaN      True  2016-03-10  A12JHGROAX49G7  0511189877   NaN   \n",
       "3             5  NaN      True  2016-01-14  A1KV65E2TMMG6F  0511189877   NaN   \n",
       "4             5  NaN      True  2016-10-20  A280POPEWI0NSA  0594459451   NaN   \n",
       "...         ...  ...       ...         ...             ...         ...   ...   \n",
       "838939        5  NaN      True  2017-07-25  A1OOVLE2KZ6KGA  B01HJCN1EI   NaN   \n",
       "838940        1  NaN      True  2017-04-04   A77K1B31UAQ29  B01HJCN1EI   NaN   \n",
       "838941        3  NaN      True  2017-07-08  A2SVXUVUAWUDK2  B01HJH42KU   NaN   \n",
       "838942        5  2.0      True  2016-12-01  A2HUZO7MQAY5I2  B01HJH40WU   NaN   \n",
       "838943        5  NaN      True  2017-03-31  A1FGCIRPRNZWD5  B01HJF704M   NaN   \n",
       "\n",
       "             reviewerName                                         reviewText  \\\n",
       "0                   Chris  I have an older URC-WR7 remote and thought thi...   \n",
       "1            Qrysta White  First time I've EVER had a remote that needed ...   \n",
       "2                 Linwood  Got them and only 2 of them worked. company ca...   \n",
       "3           Dane Williams  I got tired of the remote being on the wrong s...   \n",
       "4             Kristina H.  After purchasing cheap cords from another webs...   \n",
       "...                   ...                                                ...   \n",
       "838939            Puddzee  These are my favorite charging cords for a few...   \n",
       "838940  addictedtoreading  Update....after 2 months of gentle use, cable ...   \n",
       "838941             Andrew  These are okay. The connection becomes very if...   \n",
       "838942     michael clontz  Ok here is an odd thing that happened to me, I...   \n",
       "838943             Brando  I have it plugged into a usb extension on my g...   \n",
       "\n",
       "                                                  summary  unixReviewTime  \n",
       "0                                            Cannot Learn      1478822400  \n",
       "1                     zero programming needed!  Miracle!?      1465171200  \n",
       "2                           Works Good and programs easy.      1457568000  \n",
       "3                                      Same as TWC remote      1452729600  \n",
       "4                                       Good Quality Cord      1476921600  \n",
       "...                                                   ...             ...  \n",
       "838939                                   Worth the price.      1500940800  \n",
       "838940                  UPDATE...BREAKS AND SLOW CHARGING      1491264000  \n",
       "838941  Hope this makes sense. You'd understand if you...      1499472000  \n",
       "838942     Not the correct product as linked in the sale.      1480550400  \n",
       "838943                                Works well enough..      1490918400  \n",
       "\n",
       "[838944 rows x 11 columns]"
      ]
     },
     "execution_count": 4,
     "metadata": {},
     "output_type": "execute_result"
    }
   ],
   "source": [
    "df"
   ]
  },
  {
   "cell_type": "code",
   "execution_count": 5,
   "metadata": {},
   "outputs": [],
   "source": [
    "def clean_text(text):\n",
    "    text = text.lower()\n",
    "    text = re.sub(r'\\s+', ' ', text)\n",
    "    text = re.sub(r'http\\S+', '', text)\n",
    "    text = re.sub(r'[^a-z0-9 ]', '', text)\n",
    "    return text\n",
    "\n",
    "df['cleaned_reviewText'] = df['reviewText'].apply(clean_text)"
   ]
  },
  {
   "cell_type": "code",
   "execution_count": 6,
   "metadata": {},
   "outputs": [
    {
     "data": {
      "text/plain": [
       "0         i have an older urcwr7 remote and thought this...\n",
       "1         first time ive ever had a remote that needed n...\n",
       "2         got them and only 2 of them worked company cal...\n",
       "3         i got tired of the remote being on the wrong s...\n",
       "4         after purchasing cheap cords from another webs...\n",
       "                                ...                        \n",
       "838939    these are my favorite charging cords for a few...\n",
       "838940    updateafter 2 months of gentle use cable twist...\n",
       "838941    these are okay the connection becomes very iff...\n",
       "838942    ok here is an odd thing that happened to me i ...\n",
       "838943    i have it plugged into a usb extension on my g...\n",
       "Name: cleaned_reviewText, Length: 838944, dtype: object"
      ]
     },
     "execution_count": 6,
     "metadata": {},
     "output_type": "execute_result"
    }
   ],
   "source": [
    "df['cleaned_reviewText']"
   ]
  },
  {
   "cell_type": "code",
   "execution_count": 7,
   "metadata": {},
   "outputs": [],
   "source": [
    "tokenizer = BertTokenizer.from_pretrained(\"bert-base-uncased\")\n"
   ]
  },
  {
   "cell_type": "code",
   "execution_count": 8,
   "metadata": {},
   "outputs": [],
   "source": [
    "def tokenize_data(texts, labels=None, max_length=256):\n",
    "    encodings = tokenizer(\n",
    "        texts,\n",
    "        truncation=True,\n",
    "        padding=True,\n",
    "        max_length=max_length,\n",
    "        return_tensors=\"pt\"\n",
    "    )\n",
    "    data = {\n",
    "        \"input_ids\": encodings[\"input_ids\"].tolist(),\n",
    "        \"attention_mask\": encodings[\"attention_mask\"].tolist()\n",
    "    }\n",
    "    if labels is not None:\n",
    "        data[\"labels\"] = (torch.tensor(labels) - 1).tolist()  \n",
    "    return data"
   ]
  },
  {
   "cell_type": "code",
   "execution_count": 9,
   "metadata": {},
   "outputs": [],
   "source": [
    "train_texts, val_texts, train_labels, val_labels = train_test_split(df['cleaned_reviewText'].tolist(), df['overall'].tolist(), test_size=0.2, random_state=42)\n",
    "\n",
    "train_data = tokenize_data(train_texts, train_labels)\n",
    "val_data = tokenize_data(val_texts, val_labels)\n",
    "\n",
    "train_dataset = Dataset.from_dict(train_data)\n",
    "val_dataset = Dataset.from_dict(val_data)"
   ]
  },
  {
   "cell_type": "code",
   "execution_count": 10,
   "metadata": {},
   "outputs": [
    {
     "name": "stderr",
     "output_type": "stream",
     "text": [
      "Some weights of BertForSequenceClassification were not initialized from the model checkpoint at bert-base-uncased and are newly initialized: ['classifier.bias', 'classifier.weight']\n",
      "You should probably TRAIN this model on a down-stream task to be able to use it for predictions and inference.\n"
     ]
    }
   ],
   "source": [
    "model = BertForSequenceClassification.from_pretrained(\"bert-base-uncased\", num_labels=5)"
   ]
  },
  {
   "cell_type": "code",
   "execution_count": 11,
   "metadata": {},
   "outputs": [],
   "source": [
    "def compute_metrics(pred):\n",
    "    labels = pred.label_ids\n",
    "    preds = pred.predictions.argmax(-1)\n",
    "    return {\"f1\": f1_score(labels, preds, average='micro')}"
   ]
  },
  {
   "cell_type": "code",
   "execution_count": 12,
   "metadata": {},
   "outputs": [
    {
     "name": "stderr",
     "output_type": "stream",
     "text": [
      "/Library/Frameworks/Python.framework/Versions/3.12/lib/python3.12/site-packages/transformers/training_args.py:1575: FutureWarning: `evaluation_strategy` is deprecated and will be removed in version 4.46 of 🤗 Transformers. Use `eval_strategy` instead\n",
      "  warnings.warn(\n"
     ]
    }
   ],
   "source": [
    "training_args = TrainingArguments(\n",
    "    output_dir=\"./results\",\n",
    "    evaluation_strategy=\"epoch\",\n",
    "    save_strategy=\"epoch\",\n",
    "    logging_dir=\"./logs\",\n",
    "    per_device_train_batch_size=8,\n",
    "    per_device_eval_batch_size=8,\n",
    "    num_train_epochs=3,\n",
    "    weight_decay=0.01,\n",
    "    logging_steps=10,\n",
    ")\n",
    "trainer = Trainer(\n",
    "    model=model,\n",
    "    args=training_args,\n",
    "    train_dataset=train_dataset,\n",
    "    eval_dataset=val_dataset,\n",
    "    compute_metrics=compute_metrics,\n",
    ")"
   ]
  },
  {
   "cell_type": "code",
   "execution_count": 13,
   "metadata": {},
   "outputs": [
    {
     "data": {
      "text/html": [
       "\n",
       "    <div>\n",
       "      \n",
       "      <progress value='251685' max='251685' style='width:300px; height:20px; vertical-align: middle;'></progress>\n",
       "      [251685/251685 37:38:52, Epoch 3/3]\n",
       "    </div>\n",
       "    <table border=\"1\" class=\"dataframe\">\n",
       "  <thead>\n",
       " <tr style=\"text-align: left;\">\n",
       "      <th>Epoch</th>\n",
       "      <th>Training Loss</th>\n",
       "      <th>Validation Loss</th>\n",
       "      <th>F1</th>\n",
       "    </tr>\n",
       "  </thead>\n",
       "  <tbody>\n",
       "    <tr>\n",
       "      <td>1</td>\n",
       "      <td>0.559600</td>\n",
       "      <td>0.645787</td>\n",
       "      <td>0.737903</td>\n",
       "    </tr>\n",
       "    <tr>\n",
       "      <td>2</td>\n",
       "      <td>0.687600</td>\n",
       "      <td>0.618443</td>\n",
       "      <td>0.750866</td>\n",
       "    </tr>\n",
       "    <tr>\n",
       "      <td>3</td>\n",
       "      <td>0.431600</td>\n",
       "      <td>0.628693</td>\n",
       "      <td>0.759883</td>\n",
       "    </tr>\n",
       "  </tbody>\n",
       "</table><p>"
      ],
      "text/plain": [
       "<IPython.core.display.HTML object>"
      ]
     },
     "metadata": {},
     "output_type": "display_data"
    },
    {
     "data": {
      "text/plain": [
       "TrainOutput(global_step=251685, training_loss=0.6301997521817998, metrics={'train_runtime': 135534.4671, 'train_samples_per_second': 14.856, 'train_steps_per_second': 1.857, 'total_flos': 2.6488958535813888e+17, 'train_loss': 0.6301997521817998, 'epoch': 3.0})"
      ]
     },
     "execution_count": 13,
     "metadata": {},
     "output_type": "execute_result"
    }
   ],
   "source": [
    "trainer.train()"
   ]
  },
  {
   "cell_type": "code",
   "execution_count": 14,
   "metadata": {},
   "outputs": [
    {
     "data": {
      "text/html": [],
      "text/plain": [
       "<IPython.core.display.HTML object>"
      ]
     },
     "metadata": {},
     "output_type": "display_data"
    }
   ],
   "source": [
    "test_df = pd.read_csv('test_data.csv')\n",
    "test_df['cleaned_reviewText'] = test_df['reviewText'].apply(clean_text)\n",
    "test_data = tokenize_data(test_df['cleaned_reviewText'].tolist())\n",
    "\n",
    "test_dataset = Dataset.from_dict(test_data)\n",
    "predictions = trainer.predict(test_dataset).predictions.argmax(-1) + 1"
   ]
  },
  {
   "cell_type": "code",
   "execution_count": 15,
   "metadata": {},
   "outputs": [],
   "source": [
    "submission = pd.DataFrame({'predicted': predictions})\n",
    "submission.to_csv('q2_submission.csv', index=False)"
   ]
  }
 ],
 "metadata": {
  "kernelspec": {
   "display_name": "Python 3",
   "language": "python",
   "name": "python3"
  },
  "language_info": {
   "codemirror_mode": {
    "name": "ipython",
    "version": 3
   },
   "file_extension": ".py",
   "mimetype": "text/x-python",
   "name": "python",
   "nbconvert_exporter": "python",
   "pygments_lexer": "ipython3",
   "version": "3.12.1"
  }
 },
 "nbformat": 4,
 "nbformat_minor": 2
}
